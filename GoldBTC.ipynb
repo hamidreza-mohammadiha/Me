{
 "cells": [
  {
   "cell_type": "code",
   "execution_count": 2,
   "metadata": {},
   "outputs": [
    {
     "name": "stdout",
     "output_type": "stream",
     "text": [
      "4.56600000\n"
     ]
    }
   ],
   "source": [
    "import requests\n",
    "import pandas\n",
    "\n",
    "def BitCoin_Price():\n",
    "    # defining key/request url\n",
    "    key = \"https://api.binance.com/api/v3/ticker/price?symbol=PENDLEUSDT\"\n",
    "\n",
    "    # requesting data from url\n",
    "    data = requests.get(key)\n",
    "    data = data.json()\n",
    "    #print(f\"{data['symbol']} price is {data['price']}\")\n",
    "    #print(data['price'])\n",
    "    return data\n",
    "\n",
    "Mydata = BitCoin_Price()\n",
    "print(Mydata['price'])"
   ]
  }
 ],
 "metadata": {
  "kernelspec": {
   "display_name": "Python 3",
   "language": "python",
   "name": "python3"
  },
  "language_info": {
   "codemirror_mode": {
    "name": "ipython",
    "version": 3
   },
   "file_extension": ".py",
   "mimetype": "text/x-python",
   "name": "python",
   "nbconvert_exporter": "python",
   "pygments_lexer": "ipython3",
   "version": "3.12.1"
  }
 },
 "nbformat": 4,
 "nbformat_minor": 2
}
