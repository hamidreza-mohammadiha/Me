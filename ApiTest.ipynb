{
 "cells": [
  {
   "cell_type": "code",
   "execution_count": 6,
   "metadata": {},
   "outputs": [
    {
     "name": "stdout",
     "output_type": "stream",
     "text": [
      "{'symbol': 'BTCUSDT', 'price': '93378.91000000'}\n"
     ]
    }
   ],
   "source": [
    "import requests\n",
    "import pandas\n",
    "\n",
    "def BitCoin_Price():\n",
    "    # defining key/request url\n",
    "    key = \"https://api.binance.com/api/v3/ticker/price?symbol=BTCUSDT\"\n",
    "\n",
    "    # requesting data from url\n",
    "    data = requests.get(key)\n",
    "    data = data.json()\n",
    "    #print(f\"{data['symbol']} price is {data['price']}\")\n",
    "    #print(data['price'])\n",
    "    return data\n",
    "\n",
    "Mydata = BitCoin_Price()\n",
    "print(Mydata)"
   ]
  },
  {
   "cell_type": "code",
   "execution_count": 3,
   "metadata": {},
   "outputs": [
    {
     "ename": "NameError",
     "evalue": "name 'requests' is not defined",
     "output_type": "error",
     "traceback": [
      "\u001b[0;31m---------------------------------------------------------------------------\u001b[0m",
      "\u001b[0;31mNameError\u001b[0m                                 Traceback (most recent call last)",
      "Cell \u001b[0;32mIn[3], line 12\u001b[0m\n\u001b[1;32m      8\u001b[0m     \u001b[38;5;66;03m#print(f\"{data['symbol']} price is {data['price']}\")\u001b[39;00m\n\u001b[1;32m      9\u001b[0m     \u001b[38;5;66;03m#print(data['price'])\u001b[39;00m\n\u001b[1;32m     10\u001b[0m     \u001b[38;5;28;01mreturn\u001b[39;00m data\n\u001b[0;32m---> 12\u001b[0m Mydata \u001b[38;5;241m=\u001b[39m \u001b[43mEtherium_Price\u001b[49m\u001b[43m(\u001b[49m\u001b[43m)\u001b[49m\n\u001b[1;32m     13\u001b[0m \u001b[38;5;28mprint\u001b[39m(Mydata[\u001b[38;5;124m'\u001b[39m\u001b[38;5;124mprice\u001b[39m\u001b[38;5;124m'\u001b[39m])\n",
      "Cell \u001b[0;32mIn[3], line 6\u001b[0m, in \u001b[0;36mEtherium_Price\u001b[0;34m()\u001b[0m\n\u001b[1;32m      3\u001b[0m key \u001b[38;5;241m=\u001b[39m \u001b[38;5;124m\"\u001b[39m\u001b[38;5;124mhttps://api.binance.com/api/v3/ticker/price?symbol=ETHUSDT\u001b[39m\u001b[38;5;124m\"\u001b[39m\n\u001b[1;32m      5\u001b[0m \u001b[38;5;66;03m# requesting data from url\u001b[39;00m\n\u001b[0;32m----> 6\u001b[0m data \u001b[38;5;241m=\u001b[39m \u001b[43mrequests\u001b[49m\u001b[38;5;241m.\u001b[39mget(key)\n\u001b[1;32m      7\u001b[0m data \u001b[38;5;241m=\u001b[39m data\u001b[38;5;241m.\u001b[39mjson()\n\u001b[1;32m      8\u001b[0m \u001b[38;5;66;03m#print(f\"{data['symbol']} price is {data['price']}\")\u001b[39;00m\n\u001b[1;32m      9\u001b[0m \u001b[38;5;66;03m#print(data['price'])\u001b[39;00m\n",
      "\u001b[0;31mNameError\u001b[0m: name 'requests' is not defined"
     ]
    }
   ],
   "source": [
    "def Etherium_Price():\n",
    "    # defining key/request url\n",
    "    key = \"https://api.binance.com/api/v3/ticker/price?symbol=ETHUSDT\"\n",
    "\n",
    "    # requesting data from url\n",
    "    data = requests.get(key)\n",
    "    data = data.json()\n",
    "    #print(f\"{data['symbol']} price is {data['price']}\")\n",
    "    #print(data['price'])\n",
    "    return data\n",
    "\n",
    "Mydata = Etherium_Price()\n",
    "print(Mydata['price'])"
   ]
  },
  {
   "cell_type": "code",
   "execution_count": 17,
   "metadata": {},
   "outputs": [
    {
     "name": "stdout",
     "output_type": "stream",
     "text": [
      "0.16010000\n"
     ]
    }
   ],
   "source": [
    "def Tron_Price():\n",
    "    # defining key/request url\n",
    "    key = \"https://api.binance.com/api/v3/ticker/price?symbol=TRXUSDT\"\n",
    "\n",
    "    # requesting data from url\n",
    "    data = requests.get(key)\n",
    "    data = data.json()\n",
    "    #print(f\"{data['symbol']} price is {data['price']}\")\n",
    "    #print(data['price'])\n",
    "    return data\n",
    "\n",
    "Mydata = Tron_Price()\n",
    "print(Mydata['price'])"
   ]
  },
  {
   "cell_type": "code",
   "execution_count": 2,
   "metadata": {},
   "outputs": [
    {
     "ename": "NameError",
     "evalue": "name 'pytz' is not defined",
     "output_type": "error",
     "traceback": [
      "\u001b[0;31m---------------------------------------------------------------------------\u001b[0m",
      "\u001b[0;31mNameError\u001b[0m                                 Traceback (most recent call last)",
      "Cell \u001b[0;32mIn[2], line 5\u001b[0m\n\u001b[1;32m      2\u001b[0m \u001b[38;5;28;01mfrom\u001b[39;00m \u001b[38;5;21;01mdatetime\u001b[39;00m \u001b[38;5;28;01mimport\u001b[39;00m datetime;\n\u001b[1;32m      4\u001b[0m now \u001b[38;5;241m=\u001b[39m datetime\u001b[38;5;241m.\u001b[39mnow();\n\u001b[0;32m----> 5\u001b[0m timezone_newyork \u001b[38;5;241m=\u001b[39m \u001b[43mpytz\u001b[49m\u001b[38;5;241m.\u001b[39mtimezone(\u001b[38;5;124m'\u001b[39m\u001b[38;5;124mAmerica/New_York\u001b[39m\u001b[38;5;124m'\u001b[39m)\n\u001b[1;32m      6\u001b[0m \u001b[38;5;28mprint\u001b[39m(timezone_newyork)\n\u001b[1;32m      7\u001b[0m \u001b[38;5;28mprint\u001b[39m(\u001b[38;5;124m\"\u001b[39m\u001b[38;5;124mToday:\u001b[39m\u001b[38;5;124m\"\u001b[39m, date\u001b[38;5;241m.\u001b[39mtoday())\n",
      "\u001b[0;31mNameError\u001b[0m: name 'pytz' is not defined"
     ]
    }
   ],
   "source": [
    "from datetime import date\n",
    "from datetime import datetime;\n",
    "\n",
    "now = datetime.now();\n",
    "timezone_newyork = pytz.timezone('America/New_York')\n",
    "print(timezone_newyork)\n",
    "print(\"Today:\", date.today())\n",
    "print(\"Now:\", now.time())\n",
    "\n",
    "import pytz\n",
    "\n",
    "TehranTz = pytz.timezone(\"Asia/Tehran\") \n",
    "timeInTehran = datetime.now(TehranTz)\n",
    "currentTimeInTehran = timeInTehran.strftime(\"%H:%M:%S\")\n",
    "\n",
    "print(\"The current time in Tehran is:\", currentTimeInTehran)\n",
    "# Output: The current time in New York is: 05:36:59"
   ]
  }
 ],
 "metadata": {
  "kernelspec": {
   "display_name": "Python 3",
   "language": "python",
   "name": "python3"
  },
  "language_info": {
   "codemirror_mode": {
    "name": "ipython",
    "version": 3
   },
   "file_extension": ".py",
   "mimetype": "text/x-python",
   "name": "python",
   "nbconvert_exporter": "python",
   "pygments_lexer": "ipython3",
   "version": "3.12.1"
  }
 },
 "nbformat": 4,
 "nbformat_minor": 2
}
