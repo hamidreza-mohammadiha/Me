{
 "cells": [
  {
   "cell_type": "code",
   "execution_count": 21,
   "metadata": {},
   "outputs": [
    {
     "name": "stdout",
     "output_type": "stream",
     "text": [
      "{'symbol': 'BTCUSDT', 'price': '92116.48000000'}\n"
     ]
    }
   ],
   "source": [
    "import requests\n",
    "import pandas\n",
    "\n",
    "def BitCoin_Price():\n",
    "    # defining key/request url\n",
    "    key = \"https://api.binance.com/api/v3/ticker/price?symbol=BTCUSDT\"\n",
    "\n",
    "    # requesting data from url\n",
    "    data = requests.get(key)\n",
    "    data = data.json()\n",
    "    #print(f\"{data['symbol']} price is {data['price']}\")\n",
    "    #print(data['price'])\n",
    "    return data\n",
    "\n",
    "Mydata = BitCoin_Price()\n",
    "print(Mydata)"
   ]
  },
  {
   "cell_type": "code",
   "execution_count": 36,
   "metadata": {},
   "outputs": [
    {
     "name": "stdout",
     "output_type": "stream",
     "text": [
      "Bitcoin Market Cap: $1,822,834,205,379.97\n"
     ]
    }
   ],
   "source": [
    "import requests\n",
    "\n",
    "# CoinMarketCap API configuration\n",
    "API_KEY = \"b50cafca-9890-4eed-bc7b-a893e0d71cbc\"  # Replace with your API key\n",
    "URL = \"https://pro-api.coinmarketcap.com/v1/cryptocurrency/quotes/latest\"\n",
    "\n",
    "# Parameters for the API request\n",
    "PARAMS = {\n",
    "    \"symbol\": \"BTC\",\n",
    "}\n",
    "\n",
    "# Headers with API Key\n",
    "HEADERS = {\n",
    "    \"Accepts\": \"application/json\",\n",
    "    \"X-CMC_PRO_API_KEY\": API_KEY,\n",
    "}\n",
    "\n",
    "# Function to fetch BTC market cap\n",
    "def fetch_btc_market_cap():\n",
    "    try:\n",
    "        response = requests.get(URL, headers=HEADERS, params=PARAMS)\n",
    "        response.raise_for_status()  # Raise an error for HTTP codes 4xx or 5xx\n",
    "        \n",
    "        data = response.json()\n",
    "        btc_data = data[\"data\"][\"BTC\"]\n",
    "        market_cap = btc_data[\"quote\"][\"USD\"][\"market_cap\"]\n",
    "        \n",
    "        print(f\"Bitcoin Market Cap: ${market_cap:,.2f}\")\n",
    "    except requests.exceptions.RequestException as e:\n",
    "        print(f\"Error fetching data: {e}\")\n",
    "    except KeyError:\n",
    "        print(\"Unexpected response structure:\", response.text)\n",
    "\n",
    "# Call the function\n",
    "fetch_btc_market_cap()\n"
   ]
  },
  {
   "cell_type": "code",
   "execution_count": 17,
   "metadata": {},
   "outputs": [
    {
     "name": "stdout",
     "output_type": "stream",
     "text": [
      "0.16010000\n"
     ]
    }
   ],
   "source": [
    "def Tron_Price():\n",
    "    # defining key/request url\n",
    "    key = \"https://api.binance.com/api/v3/ticker/price?symbol=TRXUSDT\"\n",
    "\n",
    "    # requesting data from url\n",
    "    data = requests.get(key)\n",
    "    data = data.json()\n",
    "    #print(f\"{data['symbol']} price is {data['price']}\")\n",
    "    #print(data['price'])\n",
    "    return data\n",
    "\n",
    "Mydata = Tron_Price()\n",
    "print(Mydata['price'])"
   ]
  },
  {
   "cell_type": "code",
   "execution_count": 2,
   "metadata": {},
   "outputs": [
    {
     "ename": "NameError",
     "evalue": "name 'pytz' is not defined",
     "output_type": "error",
     "traceback": [
      "\u001b[0;31m---------------------------------------------------------------------------\u001b[0m",
      "\u001b[0;31mNameError\u001b[0m                                 Traceback (most recent call last)",
      "Cell \u001b[0;32mIn[2], line 5\u001b[0m\n\u001b[1;32m      2\u001b[0m \u001b[38;5;28;01mfrom\u001b[39;00m \u001b[38;5;21;01mdatetime\u001b[39;00m \u001b[38;5;28;01mimport\u001b[39;00m datetime;\n\u001b[1;32m      4\u001b[0m now \u001b[38;5;241m=\u001b[39m datetime\u001b[38;5;241m.\u001b[39mnow();\n\u001b[0;32m----> 5\u001b[0m timezone_newyork \u001b[38;5;241m=\u001b[39m \u001b[43mpytz\u001b[49m\u001b[38;5;241m.\u001b[39mtimezone(\u001b[38;5;124m'\u001b[39m\u001b[38;5;124mAmerica/New_York\u001b[39m\u001b[38;5;124m'\u001b[39m)\n\u001b[1;32m      6\u001b[0m \u001b[38;5;28mprint\u001b[39m(timezone_newyork)\n\u001b[1;32m      7\u001b[0m \u001b[38;5;28mprint\u001b[39m(\u001b[38;5;124m\"\u001b[39m\u001b[38;5;124mToday:\u001b[39m\u001b[38;5;124m\"\u001b[39m, date\u001b[38;5;241m.\u001b[39mtoday())\n",
      "\u001b[0;31mNameError\u001b[0m: name 'pytz' is not defined"
     ]
    }
   ],
   "source": [
    "from datetime import date\n",
    "from datetime import datetime;\n",
    "\n",
    "now = datetime.now();\n",
    "timezone_newyork = pytz.timezone('America/New_York')\n",
    "print(timezone_newyork)\n",
    "print(\"Today:\", date.today())\n",
    "print(\"Now:\", now.time())\n",
    "\n",
    "import pytz\n",
    "\n",
    "TehranTz = pytz.timezone(\"Asia/Tehran\") \n",
    "timeInTehran = datetime.now(TehranTz)\n",
    "currentTimeInTehran = timeInTehran.strftime(\"%H:%M:%S\")\n",
    "\n",
    "print(\"The current time in Tehran is:\", currentTimeInTehran)\n",
    "# Output: The current time in New York is: 05:36:59"
   ]
  }
 ],
 "metadata": {
  "kernelspec": {
   "display_name": "Python 3",
   "language": "python",
   "name": "python3"
  },
  "language_info": {
   "codemirror_mode": {
    "name": "ipython",
    "version": 3
   },
   "file_extension": ".py",
   "mimetype": "text/x-python",
   "name": "python",
   "nbconvert_exporter": "python",
   "pygments_lexer": "ipython3",
   "version": "3.12.1"
  }
 },
 "nbformat": 4,
 "nbformat_minor": 2
}
